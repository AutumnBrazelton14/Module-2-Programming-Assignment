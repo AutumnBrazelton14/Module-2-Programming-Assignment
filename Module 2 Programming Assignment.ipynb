{
 "cells": [
  {
   "cell_type": "code",
   "execution_count": 7,
   "id": "749ab2fa-4066-4638-b94a-41d8d825f121",
   "metadata": {},
   "outputs": [
    {
     "name": "stdout",
     "output_type": "stream",
     "text": [
      "too high\n"
     ]
    }
   ],
   "source": [
    "### 4.1\n",
    "### assigning a number between 1-10 to be the secret number\n",
    "secret = 4\n",
    "### assigning a number between 1-10 to be a guess\n",
    "guess = 9\n",
    "### creating conditional tests\n",
    "if guess < secret:\n",
    "    print('too low')\n",
    "elif guess > secret:\n",
    "    print('too high')\n",
    "else:\n",
    "    print('just right')\n"
   ]
  },
  {
   "cell_type": "code",
   "execution_count": 12,
   "id": "41f0243c-db0e-4388-b0f8-11b4e7645717",
   "metadata": {},
   "outputs": [
    {
     "name": "stdout",
     "output_type": "stream",
     "text": [
      "pumpkin\n"
     ]
    }
   ],
   "source": [
    "### 4.2\n",
    "### assigning true or false to the variables small and green\n",
    "green = False # or True\n",
    "small = False # or True\n",
    "### creating if/else statements to print which of these matches those choices:cherry, pea,\n",
    "### watermelon, pumpkin\n",
    "if small and green:\n",
    "        print('pea')\n",
    "elif small and not green:\n",
    "        print('cherry')\n",
    "elif not small and green:\n",
    "    print('watermelon')\n",
    "else:\n",
    "    print('pumpkin')"
   ]
  },
  {
   "cell_type": "code",
   "execution_count": 14,
   "id": "f8388366-2afa-43cb-8727-2ea89e21f698",
   "metadata": {},
   "outputs": [
    {
     "name": "stdout",
     "output_type": "stream",
     "text": [
      "3\n",
      "2\n",
      "1\n",
      "0\n"
     ]
    }
   ],
   "source": [
    "### 6.1 \n",
    "### Using a for loop tp print the values of the list \n",
    "values = [3, 2, 1, 0]\n",
    "### Using a look to print each values\n",
    "for value in values:\n",
    "    print(value)"
   ]
  },
  {
   "cell_type": "code",
   "execution_count": 18,
   "id": "9bb2af4f-bf4a-46f1-afc4-63255aea03ea",
   "metadata": {},
   "outputs": [
    {
     "name": "stdout",
     "output_type": "stream",
     "text": [
      "too low\n",
      "too low\n",
      "too low\n",
      "too low\n",
      "too low\n",
      "too low\n",
      "found it!\n"
     ]
    }
   ],
   "source": [
    "### 6.2 \n",
    "### assigning values to the variables\n",
    "guess_me = 7\n",
    "number = 1\n",
    "### created a while loop\n",
    "while True: \n",
    "    if number < guess_me: \n",
    "        print('too low')\n",
    "    elif number == guess_me:\n",
    "        print('found it!')\n",
    "        break\n",
    "    else:\n",
    "        print('oops')\n",
    "        break\n",
    "### Incrementing the number at the end of the loop\n",
    "    number += 1\n",
    "\n",
    " "
   ]
  },
  {
   "cell_type": "code",
   "execution_count": 19,
   "id": "28627940-f064-4560-9a06-b36da17a09b4",
   "metadata": {},
   "outputs": [
    {
     "name": "stdout",
     "output_type": "stream",
     "text": [
      "too low\n",
      "too low\n",
      "too low\n",
      "too low\n",
      "too low\n",
      "found it!\n"
     ]
    }
   ],
   "source": [
    "### 6.3\n",
    "### assigning the value to the variable\n",
    "guess_me = 5 \n",
    "### Using a loop to iterate over range(10)\n",
    "for number in range(10):\n",
    "    if number < guess_me:\n",
    "        print('too low')\n",
    "    elif number == guess_me:\n",
    "        print('found it!')\n",
    "        break\n",
    "    else: \n",
    "        print('oops')\n",
    "        break\n"
   ]
  },
  {
   "cell_type": "code",
   "execution_count": null,
   "id": "41a7812d-359a-41cb-85c0-660677066a89",
   "metadata": {},
   "outputs": [],
   "source": []
  }
 ],
 "metadata": {
  "kernelspec": {
   "display_name": "Python 3 (ipykernel)",
   "language": "python",
   "name": "python3"
  },
  "language_info": {
   "codemirror_mode": {
    "name": "ipython",
    "version": 3
   },
   "file_extension": ".py",
   "mimetype": "text/x-python",
   "name": "python",
   "nbconvert_exporter": "python",
   "pygments_lexer": "ipython3",
   "version": "3.12.4"
  }
 },
 "nbformat": 4,
 "nbformat_minor": 5
}
